{
  "nbformat": 4,
  "nbformat_minor": 0,
  "metadata": {
    "colab": {
      "provenance": []
    },
    "kernelspec": {
      "name": "python3",
      "display_name": "Python 3"
    },
    "language_info": {
      "name": "python"
    }
  },
  "cells": [
    {
      "cell_type": "code",
      "execution_count": 8,
      "metadata": {
        "id": "BQlzI1IGam9R"
      },
      "outputs": [],
      "source": [
        "import numpy as np\n",
        "import matplotlib.pyplot as plt\n",
        "import pandas as pd"
      ]
    },
    {
      "cell_type": "code",
      "source": [
        "dataset = pd.read_csv('tes.csv')\n",
        "X = dataset.iloc[:, :-1].values\n",
        "Y = dataset.iloc[:, -1].values"
      ],
      "metadata": {
        "id": "lnKcsXnSaywq"
      },
      "execution_count": 9,
      "outputs": []
    },
    {
      "cell_type": "code",
      "source": [
        "print(X)\n"
      ],
      "metadata": {
        "colab": {
          "base_uri": "https://localhost:8080/"
        },
        "id": "JAJ1r28Nban7",
        "outputId": "f38760ff-be8b-4f72-ebc4-f2f96c44474c"
      },
      "execution_count": 10,
      "outputs": [
        {
          "output_type": "stream",
          "name": "stdout",
          "text": [
            "[[1 'Ziddan' 22 '750000']\n",
            " [2 'Farrel' 27 '500000']\n",
            " [3 'Nanda' 30 '650000']\n",
            " [4 'Ziddan' 30 '725000']\n",
            " [5 'Farrel' 25 ' ']\n",
            " [6 'Nanda' 27 '385000']\n",
            " [7 'Ziddan' 350000 'No']\n",
            " [8 'Farrel' 21 '452000']\n",
            " [9 'Ziddan' 20 '485000']\n",
            " [10 'Farrel' 29 '795000']]\n"
          ]
        }
      ]
    },
    {
      "cell_type": "code",
      "source": [
        "print(Y)"
      ],
      "metadata": {
        "colab": {
          "base_uri": "https://localhost:8080/"
        },
        "id": "YbCGhDCmbeze",
        "outputId": "f4cd77b4-3537-49ec-dff9-2d8bfd589c6b"
      },
      "execution_count": 11,
      "outputs": [
        {
          "output_type": "stream",
          "name": "stdout",
          "text": [
            "['No' 'Yes' 'No' 'No' 'Yes' 'Yes' nan 'Yes' 'No' 'Yes']\n"
          ]
        }
      ]
    },
    {
      "cell_type": "code",
      "source": [
        "from sklearn.impute import SimpleImputer\n",
        "imputer = SimpleImputer(missing_values=np.nan, strategy='most_frequent')\n",
        "imputer.fit(X[:, 1:3])\n",
        "X[:, 1:3] = imputer.transform(X[:,1:3])"
      ],
      "metadata": {
        "id": "z9hG9oyWbiID"
      },
      "execution_count": 12,
      "outputs": []
    },
    {
      "cell_type": "code",
      "source": [
        "print(X)"
      ],
      "metadata": {
        "colab": {
          "base_uri": "https://localhost:8080/"
        },
        "id": "aDU40sDMbmuw",
        "outputId": "4e299d87-1f58-4bc4-bd52-22ff67cd04e9"
      },
      "execution_count": 13,
      "outputs": [
        {
          "output_type": "stream",
          "name": "stdout",
          "text": [
            "[[1 'Ziddan' 22 '750000']\n",
            " [2 'Farrel' 27 '500000']\n",
            " [3 'Nanda' 30 '650000']\n",
            " [4 'Ziddan' 30 '725000']\n",
            " [5 'Farrel' 25 ' ']\n",
            " [6 'Nanda' 27 '385000']\n",
            " [7 'Ziddan' 350000 'No']\n",
            " [8 'Farrel' 21 '452000']\n",
            " [9 'Ziddan' 20 '485000']\n",
            " [10 'Farrel' 29 '795000']]\n"
          ]
        }
      ]
    },
    {
      "cell_type": "code",
      "source": [
        "from sklearn.compose import ColumnTransformer\n",
        "from sklearn.preprocessing import OneHotEncoder\n",
        "ct = ColumnTransformer(transformers=[('encoder', OneHotEncoder(), [0])], remainder='passthrough')\n",
        "X = np.array(ct.fit_transform(X))"
      ],
      "metadata": {
        "id": "R5W2Yo0ybpYy"
      },
      "execution_count": 14,
      "outputs": []
    },
    {
      "cell_type": "code",
      "source": [
        "print(X)"
      ],
      "metadata": {
        "colab": {
          "base_uri": "https://localhost:8080/"
        },
        "id": "LXT98GpPbs96",
        "outputId": "48fad958-1b27-4966-9a23-b0c59a3fb741"
      },
      "execution_count": 15,
      "outputs": [
        {
          "output_type": "stream",
          "name": "stdout",
          "text": [
            "[[1.0 0.0 0.0 0.0 0.0 0.0 0.0 0.0 0.0 0.0 'Ziddan' 22 '750000']\n",
            " [0.0 1.0 0.0 0.0 0.0 0.0 0.0 0.0 0.0 0.0 'Farrel' 27 '500000']\n",
            " [0.0 0.0 1.0 0.0 0.0 0.0 0.0 0.0 0.0 0.0 'Nanda' 30 '650000']\n",
            " [0.0 0.0 0.0 1.0 0.0 0.0 0.0 0.0 0.0 0.0 'Ziddan' 30 '725000']\n",
            " [0.0 0.0 0.0 0.0 1.0 0.0 0.0 0.0 0.0 0.0 'Farrel' 25 ' ']\n",
            " [0.0 0.0 0.0 0.0 0.0 1.0 0.0 0.0 0.0 0.0 'Nanda' 27 '385000']\n",
            " [0.0 0.0 0.0 0.0 0.0 0.0 1.0 0.0 0.0 0.0 'Ziddan' 350000 'No']\n",
            " [0.0 0.0 0.0 0.0 0.0 0.0 0.0 1.0 0.0 0.0 'Farrel' 21 '452000']\n",
            " [0.0 0.0 0.0 0.0 0.0 0.0 0.0 0.0 1.0 0.0 'Ziddan' 20 '485000']\n",
            " [0.0 0.0 0.0 0.0 0.0 0.0 0.0 0.0 0.0 1.0 'Farrel' 29 '795000']]\n"
          ]
        }
      ]
    },
    {
      "cell_type": "code",
      "source": [
        "from sklearn.preprocessing import LabelEncoder\n",
        "le = LabelEncoder()\n",
        "Y = le.fit_transform(Y)"
      ],
      "metadata": {
        "id": "kt37SGrjbveY"
      },
      "execution_count": 16,
      "outputs": []
    },
    {
      "cell_type": "code",
      "source": [
        "print(Y)"
      ],
      "metadata": {
        "colab": {
          "base_uri": "https://localhost:8080/"
        },
        "id": "X9a6wlK6byIK",
        "outputId": "b81c77ce-212d-49fe-c4b4-90b4f4c20e7f"
      },
      "execution_count": 17,
      "outputs": [
        {
          "output_type": "stream",
          "name": "stdout",
          "text": [
            "[0 1 0 0 1 1 2 1 0 1]\n"
          ]
        }
      ]
    },
    {
      "cell_type": "code",
      "source": [
        "from sklearn.model_selection import train_test_split\n",
        "X_train, X_test, Y_train, Y_test = train_test_split(X, Y, test_size= 0.2, random_state= 1)"
      ],
      "metadata": {
        "id": "5pGL1FuKb2ZK"
      },
      "execution_count": 18,
      "outputs": []
    },
    {
      "cell_type": "code",
      "source": [
        "print(X_train)"
      ],
      "metadata": {
        "colab": {
          "base_uri": "https://localhost:8080/"
        },
        "id": "p7I0SxXlb4sJ",
        "outputId": "75cbaf5f-f371-40bf-d9e5-fb69009ca83a"
      },
      "execution_count": 19,
      "outputs": [
        {
          "output_type": "stream",
          "name": "stdout",
          "text": [
            "[[0.0 0.0 0.0 0.0 0.0 0.0 1.0 0.0 0.0 0.0 'Ziddan' 350000 'No']\n",
            " [0.0 0.0 0.0 0.0 1.0 0.0 0.0 0.0 0.0 0.0 'Farrel' 25 ' ']\n",
            " [1.0 0.0 0.0 0.0 0.0 0.0 0.0 0.0 0.0 0.0 'Ziddan' 22 '750000']\n",
            " [0.0 0.0 0.0 1.0 0.0 0.0 0.0 0.0 0.0 0.0 'Ziddan' 30 '725000']\n",
            " [0.0 1.0 0.0 0.0 0.0 0.0 0.0 0.0 0.0 0.0 'Farrel' 27 '500000']\n",
            " [0.0 0.0 0.0 0.0 0.0 0.0 0.0 1.0 0.0 0.0 'Farrel' 21 '452000']\n",
            " [0.0 0.0 0.0 0.0 0.0 0.0 0.0 0.0 1.0 0.0 'Ziddan' 20 '485000']\n",
            " [0.0 0.0 0.0 0.0 0.0 1.0 0.0 0.0 0.0 0.0 'Nanda' 27 '385000']]\n"
          ]
        }
      ]
    },
    {
      "cell_type": "code",
      "source": [
        "print(X_test)"
      ],
      "metadata": {
        "colab": {
          "base_uri": "https://localhost:8080/"
        },
        "id": "fuZpfEXHb71p",
        "outputId": "8014405e-9b0f-4e4f-97f2-e2784bfc7921"
      },
      "execution_count": 20,
      "outputs": [
        {
          "output_type": "stream",
          "name": "stdout",
          "text": [
            "[[0.0 0.0 1.0 0.0 0.0 0.0 0.0 0.0 0.0 0.0 'Nanda' 30 '650000']\n",
            " [0.0 0.0 0.0 0.0 0.0 0.0 0.0 0.0 0.0 1.0 'Farrel' 29 '795000']]\n"
          ]
        }
      ]
    },
    {
      "cell_type": "code",
      "source": [
        "print(Y_train)"
      ],
      "metadata": {
        "colab": {
          "base_uri": "https://localhost:8080/"
        },
        "id": "KYR6iqOeb-U4",
        "outputId": "539102f6-5f94-48a2-feb1-0fc9da627303"
      },
      "execution_count": 21,
      "outputs": [
        {
          "output_type": "stream",
          "name": "stdout",
          "text": [
            "[2 1 0 0 1 1 0 1]\n"
          ]
        }
      ]
    },
    {
      "cell_type": "code",
      "source": [
        "print(Y_test)"
      ],
      "metadata": {
        "colab": {
          "base_uri": "https://localhost:8080/"
        },
        "id": "B78Kb4UJcAgh",
        "outputId": "9adba212-f65a-4c1a-a20e-917ccc8a72f9"
      },
      "execution_count": 22,
      "outputs": [
        {
          "output_type": "stream",
          "name": "stdout",
          "text": [
            "[0 1]\n"
          ]
        }
      ]
    },
    {
      "cell_type": "code",
      "source": [
        "from sklearn.preprocessing import StandardScaler\n",
        "sc = StandardScaler()\n",
        "X_train[:, 1:3] = sc.fit_transform(X_train[:, 1:3])\n",
        "X_test[:, 1:3] = sc.transform(X_test[:, 1:3])"
      ],
      "metadata": {
        "id": "WyLaOM4lcDCH"
      },
      "execution_count": 23,
      "outputs": []
    },
    {
      "cell_type": "code",
      "source": [
        "print(X_train)"
      ],
      "metadata": {
        "colab": {
          "base_uri": "https://localhost:8080/"
        },
        "id": "XKARVeXMcFTz",
        "outputId": "ffa25b61-950d-4716-e87d-1ee1868c473d"
      },
      "execution_count": 24,
      "outputs": [
        {
          "output_type": "stream",
          "name": "stdout",
          "text": [
            "[[0.0 -0.3779644730092272 0.0 0.0 0.0 0.0 1.0 0.0 0.0 0.0 'Ziddan' 350000\n",
            "  'No']\n",
            " [0.0 -0.3779644730092272 0.0 0.0 1.0 0.0 0.0 0.0 0.0 0.0 'Farrel' 25 ' ']\n",
            " [1.0 -0.3779644730092272 0.0 0.0 0.0 0.0 0.0 0.0 0.0 0.0 'Ziddan' 22\n",
            "  '750000']\n",
            " [0.0 -0.3779644730092272 0.0 1.0 0.0 0.0 0.0 0.0 0.0 0.0 'Ziddan' 30\n",
            "  '725000']\n",
            " [0.0 2.6457513110645903 0.0 0.0 0.0 0.0 0.0 0.0 0.0 0.0 'Farrel' 27\n",
            "  '500000']\n",
            " [0.0 -0.3779644730092272 0.0 0.0 0.0 0.0 0.0 1.0 0.0 0.0 'Farrel' 21\n",
            "  '452000']\n",
            " [0.0 -0.3779644730092272 0.0 0.0 0.0 0.0 0.0 0.0 1.0 0.0 'Ziddan' 20\n",
            "  '485000']\n",
            " [0.0 -0.3779644730092272 0.0 0.0 0.0 1.0 0.0 0.0 0.0 0.0 'Nanda' 27\n",
            "  '385000']]\n"
          ]
        }
      ]
    },
    {
      "cell_type": "code",
      "source": [
        "print(X_test)"
      ],
      "metadata": {
        "colab": {
          "base_uri": "https://localhost:8080/"
        },
        "id": "lfugNRtBcHhn",
        "outputId": "34cab404-eca2-4f87-959b-41ec83b998c0"
      },
      "execution_count": 25,
      "outputs": [
        {
          "output_type": "stream",
          "name": "stdout",
          "text": [
            "[[0.0 -0.3779644730092272 1.0 0.0 0.0 0.0 0.0 0.0 0.0 0.0 'Nanda' 30\n",
            "  '650000']\n",
            " [0.0 -0.3779644730092272 0.0 0.0 0.0 0.0 0.0 0.0 0.0 1.0 'Farrel' 29\n",
            "  '795000']]\n"
          ]
        }
      ]
    }
  ]
}